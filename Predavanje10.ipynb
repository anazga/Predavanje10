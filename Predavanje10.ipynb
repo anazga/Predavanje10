{
 "cells": [
  {
   "cell_type": "markdown",
   "metadata": {},
   "source": [
    "# Numerička matematika - 10. predavanje"
   ]
  },
  {
   "cell_type": "markdown",
   "metadata": {},
   "source": [
    "## 1. Metoda najmanjih kvadrata\n"
   ]
  },
  {
   "cell_type": "markdown",
   "metadata": {},
   "source": [
    "U ovom predavanju bavimo se metodom najmanjih kvadrata. Posebno razmatramo linearnu i kvadratnu regresiju.\n",
    "\n",
    "\n"
   ]
  },
  {
   "cell_type": "code",
   "execution_count": 2,
   "metadata": {
    "scrolled": false
   },
   "outputs": [
    {
     "data": {
      "text/html": [
       "\n",
       "        <iframe\n",
       "            width=\"400\"\n",
       "            height=\"300\"\n",
       "            src=\"https://www.youtube.com/embed/3QgS2XwJ7DI  \"\n",
       "            frameborder=\"0\"\n",
       "            allowfullscreen\n",
       "        ></iframe>\n",
       "        "
      ],
      "text/plain": [
       "<IPython.lib.display.YouTubeVideo at 0x20502cffc18>"
      ]
     },
     "metadata": {},
     "output_type": "display_data"
    }
   ],
   "source": [
    "from IPython.lib.display import YouTubeVideo\n",
    "vid = YouTubeVideo(\"3QgS2XwJ7DI  \")\n",
    "display(vid)"
   ]
  },
  {
   "cell_type": "markdown",
   "metadata": {},
   "source": [
    "## 2.1. Preodređeni sustavi, normalne jednadžbe i uvod u QR faktorizaciju matrice\n"
   ]
  },
  {
   "cell_type": "markdown",
   "metadata": {},
   "source": [
    "U ovom dijelu predavanja bavimo se preodređenim sustavima, te ih rješavamo u smislu metode najmanjih kvadrata."
   ]
  },
  {
   "cell_type": "code",
   "execution_count": 1,
   "metadata": {
    "scrolled": true
   },
   "outputs": [
    {
     "data": {
      "text/html": [
       "\n",
       "        <iframe\n",
       "            width=\"400\"\n",
       "            height=\"300\"\n",
       "            src=\"https://www.youtube.com/embed/p7TLl7Sp4LI \"\n",
       "            frameborder=\"0\"\n",
       "            allowfullscreen\n",
       "        ></iframe>\n",
       "        "
      ],
      "text/plain": [
       "<IPython.lib.display.YouTubeVideo at 0x20501cf6f98>"
      ]
     },
     "metadata": {},
     "output_type": "display_data"
    }
   ],
   "source": [
    "from IPython.lib.display import YouTubeVideo\n",
    "vid = YouTubeVideo(\"p7TLl7Sp4LI \") \n",
    "display(vid)"
   ]
  },
  {
   "cell_type": "markdown",
   "metadata": {},
   "source": [
    "Prije no što krenemo na zadatak, jedan teorijski zadatak.\n",
    "\n",
    "\n",
    "**Zadatak** Pronaći u skripti i dobro razumijeti kako možemo riješiti sustav normalnih jednadžbi faktorizacijom Choleskog za matricu $A$ koja je punog ranga i sva objašnjenja u vezi toga.\n",
    "\n",
    "**Zadatak** Odredite linearnu funkciju za koju je izraz $\\displaystyle \\sum_{k=1}^4 \\left|f(3^k)-2k\\right|^2$ minimalan."
   ]
  },
  {
   "cell_type": "markdown",
   "metadata": {},
   "source": [
    "*Rješenje* Ovdje zapravo tražimo funkciju oblika $f(x)=ax+b$ koja aproksimira podatke zadane tablicom\n",
    "$$\\begin{array}{c|c|c|c|c|}x&3&9&27&81\\\\  \\hline y&2& 4& 6&  8\\end{array}$$\n",
    "Tražimo $a$ i $b$ koji minimiziraju funkciju\n",
    "$$E=\\displaystyle \\sum_{k=1}^4 |f(x_k)-y_k|^2=\\sum_{k=1}^4(ax_k+b-y_k)^2$$\n",
    "\n",
    "Dakle imamo\n",
    "$$0=\\frac{\\partial E}{\\partial a}=2\\sum_{k}(ax_k+b-y_k)\\cdot x_k$$\n",
    "$$0=\\frac{\\partial E}{\\partial b}=2\\sum_k(ax_k+b-y_k)$$\n",
    "Odavde dobivamo\n",
    "$$a\\sum_kx_k^2+b\\sum_kx_k=\\sum_kx_ky_k$$\n",
    "$$a\\sum_k x_k+b\\cdot 4=\\sum_ky_k$$\n",
    "Odavde dolazimo do sustava\n",
    "$$7380a+120b=852$$\n",
    "$$120a+4b=20$$\n",
    "čije je rješenje $a=\\frac{1}{15}$ i $b=3.$ Odnosno tražena funkcija je \n",
    "$$f(x)=\\frac{1}{15}x+3$$\n",
    "\n",
    "Uočimo da smo mogli formirati matricu\n",
    "$$A=\\begin{bmatrix} 1& 3\\\\\n",
    "1& 9\\\\\n",
    "1& 27\\\\\n",
    "1& 81\\end{bmatrix}$$\n",
    "i vektor $y=\\begin{bmatrix}2\\\\ 4\\\\ 6\\\\8\\end{bmatrix}$\n",
    "\n",
    "Pogledajmo onda kako izgleda sustav normalnih jednadžbi. Imamo\n",
    "$$A^TA=\\begin{bmatrix}4& 120\\\\\n",
    "120& 7380\\end{bmatrix}$$\n",
    "Ako nepoznati vektor označimo s $\\begin{bmatrix}b\\\\ a\\end{bmatrix}$\n",
    "I $$A^Ty=\\begin{bmatrix}20\\\\ 852\\end{bmatrix}$$\n",
    "dobivamo da je sustav normalnih jednadžbi zapravo sustav koji smo već rješavali."
   ]
  },
  {
   "cell_type": "markdown",
   "metadata": {},
   "source": [
    "**Zadatak** Za funkciju $y=f(x)$ zadanu tablicom\n",
    "$$\\begin{array}{c|c|c|c|c|c|c|} x_i& 0& 1& 2& 4& 7& 9\\\\ \\hline\n",
    "0& 4& 3& a& 30& b\\end{array}$$ pravac koji aproksimira navedene podatke u smislu najmanjih kvadrata ima jednadžbu $y=3x+4$. Izračunajte vrijednosti $a$ i $b$.\n",
    "\n",
    "*Rješenje*  Imamo da je $f(x)=c_1x+c_0$ gdje je $c_1=3$ i $c_0=4.$\n",
    "\n",
    "Formirajmo sustav normalnih jednadžbi. Matrica za ovaj problem je\n",
    "$$A=\\begin{bmatrix} 1& 0\\\\\n",
    "1& 1\\\\\n",
    "1& 2\\\\\n",
    "1& 4\\\\\n",
    "1& 7\\\\\n",
    "1& 9\\end{bmatrix}$$\n",
    "Vektor $y$ je\n",
    "$$y=[0\\ 4\\ 3\\ a\\ 30\\ b]^T$$\n",
    "Dobivamo da je $$A^TA=\\begin{bmatrix} 6&23\\\\ 23& 151\\end{bmatrix}$$\n",
    "Vektor desne strane je \n",
    "$$A^Ty=\\begin{bmatrix}37+a+b\\\\ 220+4a+9b\\end{bmatrix}$$\n",
    "Dakle sustav normalnih jednažbi je\n",
    "$$\\begin{bmatrix}6& 23\\\\\n",
    "23& 151\\end{bmatrix}\\begin{bmatrix}c_0\\\\ c_1\\end{bmatrix}= \\begin{bmatrix}37+a+b\\\\ 220+4a+9b\\end{bmatrix}$$\n",
    "\n",
    "Nama su $c_0$ i $c_1$ poznati a $a$ i $b$ moramo odrediti. Dobivamo\n",
    "$$a=\\frac{179}{5},\\quad b=\\frac{101}{5}.$$"
   ]
  },
  {
   "cell_type": "code",
   "execution_count": null,
   "metadata": {},
   "outputs": [],
   "source": []
  }
 ],
 "metadata": {
  "kernelspec": {
   "display_name": "Python 3",
   "language": "python",
   "name": "python3"
  },
  "language_info": {
   "codemirror_mode": {
    "name": "ipython",
    "version": 3
   },
   "file_extension": ".py",
   "mimetype": "text/x-python",
   "name": "python",
   "nbconvert_exporter": "python",
   "pygments_lexer": "ipython3",
   "version": "3.6.4"
  }
 },
 "nbformat": 4,
 "nbformat_minor": 2
}
